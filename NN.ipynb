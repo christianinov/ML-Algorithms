{
 "cells": [
  {
   "cell_type": "code",
   "execution_count": 1,
   "metadata": {
    "collapsed": true
   },
   "outputs": [],
   "source": [
    "import numpy as np"
   ]
  },
  {
   "cell_type": "code",
   "execution_count": 505,
   "metadata": {},
   "outputs": [
    {
     "name": "stdout",
     "output_type": "stream",
     "text": [
      "[[-0.16595599  0.44064899 -0.99977125 -0.39533485]\n",
      " [-0.70648822 -0.81532281 -0.62747958 -0.30887855]\n",
      " [-0.20646505  0.07763347 -0.16161097  0.370439  ]]\n",
      "Error:0.496410031903\n",
      "Error:0.395889882979\n",
      "Error:0.028252872986\n",
      "Error:0.00984912467265\n",
      "Error:0.00565228621954\n",
      "Error:0.00375349830674\n",
      "Выходные данные после тренировки:\n",
      "[[ 0.00249014]\n",
      " [ 0.99689713]\n",
      " [ 0.99714958]\n",
      " [ 0.00222388]]\n",
      "syn1:\n",
      " [[ 22.98007177]\n",
      " [-28.48592703]\n",
      " [-63.72727005]\n",
      " [-13.26155676]]\n",
      "syn0:\n",
      " [[-91.3033436   -7.93237933 -31.76511626  -1.70096251]\n",
      " [-90.21032678 -22.67981393 -64.96982606   0.35429558]\n",
      " [ 91.1878002   -1.3617468   -1.36157619   1.18814316]]\n"
     ]
    }
   ],
   "source": [
    "# Сигмоида \n",
    "def sigmoid(x):\n",
    "    return 1/(1+np.exp(-x))\n",
    "\n",
    "def deriv(x):\n",
    "    return sigmoid(x)*(1-sigmoid(x))\n",
    "    \n",
    "# набор входных данных\n",
    "X = np.array([  [0,0,1],\n",
    "                [0,1,1],\n",
    "                [1,0,1],\n",
    "                [1,1,1] ])\n",
    "    \n",
    "# выходные данные            \n",
    "y = np.array([[0,1,1,0]]).T\n",
    "\n",
    "# для отладки\n",
    "np.random.seed(1)\n",
    "\n",
    "# инициализируем веса случайным образом\n",
    "syn0 = 2*np.random.random((3,4)) - 1\n",
    "syn1 = 2*np.random.random((4,1)) - 1\n",
    "\n",
    "l0 = X\n",
    "\n",
    "for i in range(60000):\n",
    "\n",
    "    l1 = sigmoid(np.dot(l0,syn0))\n",
    "    l2 = sigmoid(np.dot(l1,syn1))\n",
    "\n",
    "    # насколько мы ошиблись?\n",
    "    l2_error = y - l2\n",
    "    \n",
    "    if (i % 10000) == 0:\n",
    "        print(\"Error:\" + str(np.mean(np.abs(l2_error))))\n",
    "\n",
    "    l2_delta = l2_error * deriv(l2)\n",
    "    \n",
    "    # как сильно значения l1 влияют на ошибки в l2?\n",
    "    l1_error = l2_delta.dot(syn1.T)\n",
    "    \n",
    "    l1_delta = l1_error * deriv(l1)\n",
    "\n",
    "    # обновим веса\n",
    "    syn1 += l1.T.dot(l2_delta)\n",
    "    syn0 += np.dot(l0.T,l1_delta)\n",
    "\n",
    "print(\"Выходные данные после тренировки:\")\n",
    "print(l2)\n",
    "print('syn1:\\n', syn1)\n",
    "print('syn0:\\n', syn0)"
   ]
  }
 ],
 "metadata": {
  "kernelspec": {
   "display_name": "Python 3",
   "language": "python",
   "name": "python3"
  },
  "language_info": {
   "codemirror_mode": {
    "name": "ipython",
    "version": 3
   },
   "file_extension": ".py",
   "mimetype": "text/x-python",
   "name": "python",
   "nbconvert_exporter": "python",
   "pygments_lexer": "ipython3",
   "version": "3.6.2"
  }
 },
 "nbformat": 4,
 "nbformat_minor": 2
}
